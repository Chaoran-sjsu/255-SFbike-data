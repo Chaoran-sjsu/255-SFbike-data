{
 "cells": [
  {
   "cell_type": "code",
   "execution_count": 1,
   "id": "6704f627",
   "metadata": {},
   "outputs": [],
   "source": [
    "import numpy as np\n",
    "import pandas as pd\n",
    "from sklearn.model_selection import train_test_split\n",
    "import math\n",
    "from sklearn.ensemble import RandomForestRegressor, GradientBoostingRegressor, AdaBoostRegressor\n",
    "from sklearn.tree import DecisionTreeRegressor\n",
    "from sklearn.linear_model import LogisticRegression\n",
    "from sklearn.linear_model import LinearRegression\n",
    "from sklearn.model_selection import cross_val_score\n",
    "from sklearn.model_selection import KFold\n",
    "from sklearn.metrics import mean_squared_error, median_absolute_error\n",
    "import xgboost as xgb\n",
    "\n",
    "import warnings\n",
    "warnings.filterwarnings(\"ignore\")"
   ]
  },
  {
   "cell_type": "code",
   "execution_count": 2,
   "id": "868d5b1d",
   "metadata": {},
   "outputs": [],
   "source": [
    "df = pd.read_csv(\"./trained.csv\")"
   ]
  },
  {
   "cell_type": "code",
   "execution_count": 3,
   "id": "55c9364d",
   "metadata": {},
   "outputs": [
    {
     "data": {
      "text/html": [
       "<div>\n",
       "<style scoped>\n",
       "    .dataframe tbody tr th:only-of-type {\n",
       "        vertical-align: middle;\n",
       "    }\n",
       "\n",
       "    .dataframe tbody tr th {\n",
       "        vertical-align: top;\n",
       "    }\n",
       "\n",
       "    .dataframe thead th {\n",
       "        text-align: right;\n",
       "    }\n",
       "</style>\n",
       "<table border=\"1\" class=\"dataframe\">\n",
       "  <thead>\n",
       "    <tr style=\"text-align: right;\">\n",
       "      <th></th>\n",
       "      <th>Unnamed: 0</th>\n",
       "      <th>date</th>\n",
       "      <th>city</th>\n",
       "      <th>trips</th>\n",
       "      <th>total_docks</th>\n",
       "      <th>max_temperature_f</th>\n",
       "      <th>mean_temperature_f</th>\n",
       "      <th>min_temperature_f</th>\n",
       "      <th>max_dew_point_f</th>\n",
       "      <th>mean_dew_point_f</th>\n",
       "      <th>...</th>\n",
       "      <th>max_gust_speed_mph</th>\n",
       "      <th>precipitation_inches</th>\n",
       "      <th>cloud_cover</th>\n",
       "      <th>wind_dir_degrees</th>\n",
       "      <th>Fog</th>\n",
       "      <th>Fog-Rain</th>\n",
       "      <th>Normal</th>\n",
       "      <th>Rain</th>\n",
       "      <th>Rain-Thunderstorm</th>\n",
       "      <th>weekend</th>\n",
       "    </tr>\n",
       "  </thead>\n",
       "  <tbody>\n",
       "    <tr>\n",
       "      <th>0</th>\n",
       "      <td>0</td>\n",
       "      <td>2013-08-29</td>\n",
       "      <td>San Francisco</td>\n",
       "      <td>518</td>\n",
       "      <td>650</td>\n",
       "      <td>74.0</td>\n",
       "      <td>68.0</td>\n",
       "      <td>61.0</td>\n",
       "      <td>61.0</td>\n",
       "      <td>58.0</td>\n",
       "      <td>...</td>\n",
       "      <td>28.0</td>\n",
       "      <td>0.0</td>\n",
       "      <td>4.0</td>\n",
       "      <td>286.0</td>\n",
       "      <td>0</td>\n",
       "      <td>0</td>\n",
       "      <td>1</td>\n",
       "      <td>0</td>\n",
       "      <td>0</td>\n",
       "      <td>0</td>\n",
       "    </tr>\n",
       "    <tr>\n",
       "      <th>1</th>\n",
       "      <td>1</td>\n",
       "      <td>2013-08-29</td>\n",
       "      <td>San Jose</td>\n",
       "      <td>58</td>\n",
       "      <td>234</td>\n",
       "      <td>81.0</td>\n",
       "      <td>72.0</td>\n",
       "      <td>63.0</td>\n",
       "      <td>62.0</td>\n",
       "      <td>61.0</td>\n",
       "      <td>...</td>\n",
       "      <td>24.0</td>\n",
       "      <td>0.0</td>\n",
       "      <td>4.0</td>\n",
       "      <td>320.0</td>\n",
       "      <td>0</td>\n",
       "      <td>0</td>\n",
       "      <td>1</td>\n",
       "      <td>0</td>\n",
       "      <td>0</td>\n",
       "      <td>0</td>\n",
       "    </tr>\n",
       "    <tr>\n",
       "      <th>2</th>\n",
       "      <td>2</td>\n",
       "      <td>2013-08-29</td>\n",
       "      <td>Mountain View</td>\n",
       "      <td>10</td>\n",
       "      <td>91</td>\n",
       "      <td>80.0</td>\n",
       "      <td>70.0</td>\n",
       "      <td>64.0</td>\n",
       "      <td>65.0</td>\n",
       "      <td>61.0</td>\n",
       "      <td>...</td>\n",
       "      <td>16.0</td>\n",
       "      <td>0.0</td>\n",
       "      <td>4.0</td>\n",
       "      <td>355.0</td>\n",
       "      <td>0</td>\n",
       "      <td>0</td>\n",
       "      <td>1</td>\n",
       "      <td>0</td>\n",
       "      <td>0</td>\n",
       "      <td>0</td>\n",
       "    </tr>\n",
       "    <tr>\n",
       "      <th>3</th>\n",
       "      <td>3</td>\n",
       "      <td>2013-08-29</td>\n",
       "      <td>Redwood City</td>\n",
       "      <td>9</td>\n",
       "      <td>100</td>\n",
       "      <td>80.0</td>\n",
       "      <td>71.0</td>\n",
       "      <td>62.0</td>\n",
       "      <td>63.0</td>\n",
       "      <td>59.0</td>\n",
       "      <td>...</td>\n",
       "      <td>17.0</td>\n",
       "      <td>0.0</td>\n",
       "      <td>5.0</td>\n",
       "      <td>313.0</td>\n",
       "      <td>0</td>\n",
       "      <td>0</td>\n",
       "      <td>1</td>\n",
       "      <td>0</td>\n",
       "      <td>0</td>\n",
       "      <td>0</td>\n",
       "    </tr>\n",
       "    <tr>\n",
       "      <th>4</th>\n",
       "      <td>4</td>\n",
       "      <td>2013-08-29</td>\n",
       "      <td>Palo Alto</td>\n",
       "      <td>19</td>\n",
       "      <td>75</td>\n",
       "      <td>78.0</td>\n",
       "      <td>71.0</td>\n",
       "      <td>64.0</td>\n",
       "      <td>62.0</td>\n",
       "      <td>61.0</td>\n",
       "      <td>...</td>\n",
       "      <td>23.0</td>\n",
       "      <td>0.0</td>\n",
       "      <td>4.0</td>\n",
       "      <td>355.0</td>\n",
       "      <td>0</td>\n",
       "      <td>0</td>\n",
       "      <td>1</td>\n",
       "      <td>0</td>\n",
       "      <td>0</td>\n",
       "      <td>0</td>\n",
       "    </tr>\n",
       "  </tbody>\n",
       "</table>\n",
       "<p>5 rows × 32 columns</p>\n",
       "</div>"
      ],
      "text/plain": [
       "   Unnamed: 0        date           city  trips  total_docks  \\\n",
       "0           0  2013-08-29  San Francisco    518          650   \n",
       "1           1  2013-08-29       San Jose     58          234   \n",
       "2           2  2013-08-29  Mountain View     10           91   \n",
       "3           3  2013-08-29   Redwood City      9          100   \n",
       "4           4  2013-08-29      Palo Alto     19           75   \n",
       "\n",
       "   max_temperature_f  mean_temperature_f  min_temperature_f  max_dew_point_f  \\\n",
       "0               74.0                68.0               61.0             61.0   \n",
       "1               81.0                72.0               63.0             62.0   \n",
       "2               80.0                70.0               64.0             65.0   \n",
       "3               80.0                71.0               62.0             63.0   \n",
       "4               78.0                71.0               64.0             62.0   \n",
       "\n",
       "   mean_dew_point_f  ...  max_gust_speed_mph  precipitation_inches  \\\n",
       "0              58.0  ...                28.0                   0.0   \n",
       "1              61.0  ...                24.0                   0.0   \n",
       "2              61.0  ...                16.0                   0.0   \n",
       "3              59.0  ...                17.0                   0.0   \n",
       "4              61.0  ...                23.0                   0.0   \n",
       "\n",
       "   cloud_cover  wind_dir_degrees  Fog  Fog-Rain  Normal  Rain  \\\n",
       "0          4.0             286.0    0         0       1     0   \n",
       "1          4.0             320.0    0         0       1     0   \n",
       "2          4.0             355.0    0         0       1     0   \n",
       "3          5.0             313.0    0         0       1     0   \n",
       "4          4.0             355.0    0         0       1     0   \n",
       "\n",
       "   Rain-Thunderstorm  weekend  \n",
       "0                  0        0  \n",
       "1                  0        0  \n",
       "2                  0        0  \n",
       "3                  0        0  \n",
       "4                  0        0  \n",
       "\n",
       "[5 rows x 32 columns]"
      ]
     },
     "execution_count": 3,
     "metadata": {},
     "output_type": "execute_result"
    }
   ],
   "source": [
    "df.head()"
   ]
  },
  {
   "cell_type": "code",
   "execution_count": 4,
   "id": "78bd455d",
   "metadata": {},
   "outputs": [
    {
     "name": "stdout",
     "output_type": "stream",
     "text": [
      "<class 'pandas.core.frame.DataFrame'>\n",
      "RangeIndex: 3461 entries, 0 to 3460\n",
      "Data columns (total 32 columns):\n",
      " #   Column                          Non-Null Count  Dtype  \n",
      "---  ------                          --------------  -----  \n",
      " 0   Unnamed: 0                      3461 non-null   int64  \n",
      " 1   date                            3461 non-null   object \n",
      " 2   city                            3461 non-null   object \n",
      " 3   trips                           3461 non-null   int64  \n",
      " 4   total_docks                     3461 non-null   int64  \n",
      " 5   max_temperature_f               3461 non-null   float64\n",
      " 6   mean_temperature_f              3461 non-null   float64\n",
      " 7   min_temperature_f               3461 non-null   float64\n",
      " 8   max_dew_point_f                 3461 non-null   float64\n",
      " 9   mean_dew_point_f                3461 non-null   float64\n",
      " 10  min_dew_point_f                 3461 non-null   float64\n",
      " 11  max_humidity                    3461 non-null   float64\n",
      " 12  mean_humidity                   3461 non-null   float64\n",
      " 13  min_humidity                    3461 non-null   float64\n",
      " 14  max_sea_level_pressure_inches   3461 non-null   float64\n",
      " 15  mean_sea_level_pressure_inches  3461 non-null   float64\n",
      " 16  min_sea_level_pressure_inches   3461 non-null   float64\n",
      " 17  max_visibility_miles            3461 non-null   float64\n",
      " 18  mean_visibility_miles           3461 non-null   float64\n",
      " 19  min_visibility_miles            3461 non-null   float64\n",
      " 20  max_wind_Speed_mph              3461 non-null   float64\n",
      " 21  mean_wind_speed_mph             3461 non-null   float64\n",
      " 22  max_gust_speed_mph              3461 non-null   float64\n",
      " 23  precipitation_inches            3461 non-null   float64\n",
      " 24  cloud_cover                     3461 non-null   float64\n",
      " 25  wind_dir_degrees                3461 non-null   float64\n",
      " 26  Fog                             3461 non-null   int64  \n",
      " 27  Fog-Rain                        3461 non-null   int64  \n",
      " 28  Normal                          3461 non-null   int64  \n",
      " 29  Rain                            3461 non-null   int64  \n",
      " 30  Rain-Thunderstorm               3461 non-null   int64  \n",
      " 31  weekend                         3461 non-null   int64  \n",
      "dtypes: float64(21), int64(9), object(2)\n",
      "memory usage: 865.4+ KB\n"
     ]
    }
   ],
   "source": [
    "df.info()"
   ]
  },
  {
   "cell_type": "code",
   "execution_count": 5,
   "id": "7cdda6ac",
   "metadata": {},
   "outputs": [
    {
     "data": {
      "text/html": [
       "<div>\n",
       "<style scoped>\n",
       "    .dataframe tbody tr th:only-of-type {\n",
       "        vertical-align: middle;\n",
       "    }\n",
       "\n",
       "    .dataframe tbody tr th {\n",
       "        vertical-align: top;\n",
       "    }\n",
       "\n",
       "    .dataframe thead th {\n",
       "        text-align: right;\n",
       "    }\n",
       "</style>\n",
       "<table border=\"1\" class=\"dataframe\">\n",
       "  <thead>\n",
       "    <tr style=\"text-align: right;\">\n",
       "      <th></th>\n",
       "      <th>Unnamed: 0</th>\n",
       "      <th>date</th>\n",
       "      <th>city</th>\n",
       "      <th>trips</th>\n",
       "      <th>total_docks</th>\n",
       "      <th>max_temperature_f</th>\n",
       "      <th>mean_temperature_f</th>\n",
       "      <th>min_temperature_f</th>\n",
       "      <th>max_dew_point_f</th>\n",
       "      <th>mean_dew_point_f</th>\n",
       "      <th>...</th>\n",
       "      <th>max_gust_speed_mph</th>\n",
       "      <th>precipitation_inches</th>\n",
       "      <th>cloud_cover</th>\n",
       "      <th>wind_dir_degrees</th>\n",
       "      <th>Fog</th>\n",
       "      <th>Fog-Rain</th>\n",
       "      <th>Normal</th>\n",
       "      <th>Rain</th>\n",
       "      <th>Rain-Thunderstorm</th>\n",
       "      <th>weekend</th>\n",
       "    </tr>\n",
       "  </thead>\n",
       "  <tbody>\n",
       "  </tbody>\n",
       "</table>\n",
       "<p>0 rows × 32 columns</p>\n",
       "</div>"
      ],
      "text/plain": [
       "Empty DataFrame\n",
       "Columns: [Unnamed: 0, date, city, trips, total_docks, max_temperature_f, mean_temperature_f, min_temperature_f, max_dew_point_f, mean_dew_point_f, min_dew_point_f, max_humidity, mean_humidity, min_humidity, max_sea_level_pressure_inches, mean_sea_level_pressure_inches, min_sea_level_pressure_inches, max_visibility_miles, mean_visibility_miles, min_visibility_miles, max_wind_Speed_mph, mean_wind_speed_mph, max_gust_speed_mph, precipitation_inches, cloud_cover, wind_dir_degrees, Fog, Fog-Rain, Normal, Rain, Rain-Thunderstorm, weekend]\n",
       "Index: []\n",
       "\n",
       "[0 rows x 32 columns]"
      ]
     },
     "execution_count": 5,
     "metadata": {},
     "output_type": "execute_result"
    }
   ],
   "source": [
    "df[df.isnull().values==True].drop_duplicates()"
   ]
  },
  {
   "cell_type": "code",
   "execution_count": 6,
   "id": "9ed73567",
   "metadata": {},
   "outputs": [],
   "source": [
    "df = df.iloc[: , 1:]"
   ]
  },
  {
   "cell_type": "code",
   "execution_count": 7,
   "id": "a4349f41",
   "metadata": {},
   "outputs": [],
   "source": [
    "df_sf = df[df[\"city\"]==\"San Francisco\"]\n",
    "df_sj = df[df[\"city\"]==\"San Jose\"]\n",
    "df_mv = df[df[\"city\"]==\"Mountain View\"]\n",
    "df_rc = df[df[\"city\"]==\"Redwood City\"]\n",
    "df_pa = df[df[\"city\"]==\"Palo Alto\"]"
   ]
  },
  {
   "cell_type": "code",
   "execution_count": 8,
   "id": "334c411d",
   "metadata": {},
   "outputs": [],
   "source": [
    "labels_sf = df_sf.trips\n",
    "train_sf = df_sf.drop(['trips', 'date','city'], 1)\n",
    "labels_sj = df_sj.trips\n",
    "train_sj = df_sj.drop(['trips', 'date','city'], 1)\n",
    "labels_mv = df_mv.trips\n",
    "train_mv = df_mv.drop(['trips', 'date','city'], 1)\n",
    "labels_rc = df_rc.trips\n",
    "train_rc = df_rc.drop(['trips', 'date','city'], 1)\n",
    "labels_pa = df_pa.trips\n",
    "train_pa = df_pa.drop(['trips', 'date','city'], 1)"
   ]
  },
  {
   "cell_type": "markdown",
   "id": "e8e84172",
   "metadata": {},
   "source": [
    "<font size=5> Dealing with data of city of SF </font>"
   ]
  },
  {
   "cell_type": "code",
   "execution_count": 9,
   "id": "4265917f",
   "metadata": {},
   "outputs": [],
   "source": [
    "X_train, X_test, y_train, y_test = train_test_split(train_sf, labels_sf, test_size = 0.2, random_state = 22)"
   ]
  },
  {
   "cell_type": "code",
   "execution_count": 10,
   "id": "c9c0422b",
   "metadata": {},
   "outputs": [
    {
     "data": {
      "text/html": [
       "<div>\n",
       "<style scoped>\n",
       "    .dataframe tbody tr th:only-of-type {\n",
       "        vertical-align: middle;\n",
       "    }\n",
       "\n",
       "    .dataframe tbody tr th {\n",
       "        vertical-align: top;\n",
       "    }\n",
       "\n",
       "    .dataframe thead th {\n",
       "        text-align: right;\n",
       "    }\n",
       "</style>\n",
       "<table border=\"1\" class=\"dataframe\">\n",
       "  <thead>\n",
       "    <tr style=\"text-align: right;\">\n",
       "      <th></th>\n",
       "      <th>date</th>\n",
       "      <th>city</th>\n",
       "      <th>trips</th>\n",
       "      <th>total_docks</th>\n",
       "      <th>max_temperature_f</th>\n",
       "      <th>mean_temperature_f</th>\n",
       "      <th>min_temperature_f</th>\n",
       "      <th>max_dew_point_f</th>\n",
       "      <th>mean_dew_point_f</th>\n",
       "      <th>min_dew_point_f</th>\n",
       "      <th>...</th>\n",
       "      <th>max_gust_speed_mph</th>\n",
       "      <th>precipitation_inches</th>\n",
       "      <th>cloud_cover</th>\n",
       "      <th>wind_dir_degrees</th>\n",
       "      <th>Fog</th>\n",
       "      <th>Fog-Rain</th>\n",
       "      <th>Normal</th>\n",
       "      <th>Rain</th>\n",
       "      <th>Rain-Thunderstorm</th>\n",
       "      <th>weekend</th>\n",
       "    </tr>\n",
       "  </thead>\n",
       "  <tbody>\n",
       "    <tr>\n",
       "      <th>0</th>\n",
       "      <td>2013-08-29</td>\n",
       "      <td>San Francisco</td>\n",
       "      <td>518</td>\n",
       "      <td>650</td>\n",
       "      <td>74.0</td>\n",
       "      <td>68.0</td>\n",
       "      <td>61.0</td>\n",
       "      <td>61.0</td>\n",
       "      <td>58.0</td>\n",
       "      <td>56.0</td>\n",
       "      <td>...</td>\n",
       "      <td>28.0</td>\n",
       "      <td>0.0</td>\n",
       "      <td>4.0</td>\n",
       "      <td>286.0</td>\n",
       "      <td>0</td>\n",
       "      <td>0</td>\n",
       "      <td>1</td>\n",
       "      <td>0</td>\n",
       "      <td>0</td>\n",
       "      <td>0</td>\n",
       "    </tr>\n",
       "    <tr>\n",
       "      <th>5</th>\n",
       "      <td>2013-08-30</td>\n",
       "      <td>San Francisco</td>\n",
       "      <td>470</td>\n",
       "      <td>650</td>\n",
       "      <td>78.0</td>\n",
       "      <td>69.0</td>\n",
       "      <td>60.0</td>\n",
       "      <td>61.0</td>\n",
       "      <td>58.0</td>\n",
       "      <td>56.0</td>\n",
       "      <td>...</td>\n",
       "      <td>35.0</td>\n",
       "      <td>0.0</td>\n",
       "      <td>2.0</td>\n",
       "      <td>291.0</td>\n",
       "      <td>0</td>\n",
       "      <td>0</td>\n",
       "      <td>1</td>\n",
       "      <td>0</td>\n",
       "      <td>0</td>\n",
       "      <td>0</td>\n",
       "    </tr>\n",
       "    <tr>\n",
       "      <th>14</th>\n",
       "      <td>2013-08-31</td>\n",
       "      <td>San Francisco</td>\n",
       "      <td>353</td>\n",
       "      <td>650</td>\n",
       "      <td>71.0</td>\n",
       "      <td>64.0</td>\n",
       "      <td>57.0</td>\n",
       "      <td>57.0</td>\n",
       "      <td>56.0</td>\n",
       "      <td>54.0</td>\n",
       "      <td>...</td>\n",
       "      <td>31.0</td>\n",
       "      <td>0.0</td>\n",
       "      <td>4.0</td>\n",
       "      <td>284.0</td>\n",
       "      <td>0</td>\n",
       "      <td>0</td>\n",
       "      <td>1</td>\n",
       "      <td>0</td>\n",
       "      <td>0</td>\n",
       "      <td>1</td>\n",
       "    </tr>\n",
       "    <tr>\n",
       "      <th>16</th>\n",
       "      <td>2013-09-01</td>\n",
       "      <td>San Francisco</td>\n",
       "      <td>411</td>\n",
       "      <td>650</td>\n",
       "      <td>74.0</td>\n",
       "      <td>66.0</td>\n",
       "      <td>58.0</td>\n",
       "      <td>60.0</td>\n",
       "      <td>56.0</td>\n",
       "      <td>53.0</td>\n",
       "      <td>...</td>\n",
       "      <td>29.0</td>\n",
       "      <td>0.0</td>\n",
       "      <td>4.0</td>\n",
       "      <td>284.0</td>\n",
       "      <td>0</td>\n",
       "      <td>0</td>\n",
       "      <td>1</td>\n",
       "      <td>0</td>\n",
       "      <td>0</td>\n",
       "      <td>1</td>\n",
       "    </tr>\n",
       "    <tr>\n",
       "      <th>20</th>\n",
       "      <td>2013-09-02</td>\n",
       "      <td>San Francisco</td>\n",
       "      <td>440</td>\n",
       "      <td>650</td>\n",
       "      <td>75.0</td>\n",
       "      <td>69.0</td>\n",
       "      <td>62.0</td>\n",
       "      <td>61.0</td>\n",
       "      <td>60.0</td>\n",
       "      <td>58.0</td>\n",
       "      <td>...</td>\n",
       "      <td>30.0</td>\n",
       "      <td>0.0</td>\n",
       "      <td>6.0</td>\n",
       "      <td>277.0</td>\n",
       "      <td>0</td>\n",
       "      <td>0</td>\n",
       "      <td>1</td>\n",
       "      <td>0</td>\n",
       "      <td>0</td>\n",
       "      <td>0</td>\n",
       "    </tr>\n",
       "  </tbody>\n",
       "</table>\n",
       "<p>5 rows × 31 columns</p>\n",
       "</div>"
      ],
      "text/plain": [
       "          date           city  trips  total_docks  max_temperature_f  \\\n",
       "0   2013-08-29  San Francisco    518          650               74.0   \n",
       "5   2013-08-30  San Francisco    470          650               78.0   \n",
       "14  2013-08-31  San Francisco    353          650               71.0   \n",
       "16  2013-09-01  San Francisco    411          650               74.0   \n",
       "20  2013-09-02  San Francisco    440          650               75.0   \n",
       "\n",
       "    mean_temperature_f  min_temperature_f  max_dew_point_f  mean_dew_point_f  \\\n",
       "0                 68.0               61.0             61.0              58.0   \n",
       "5                 69.0               60.0             61.0              58.0   \n",
       "14                64.0               57.0             57.0              56.0   \n",
       "16                66.0               58.0             60.0              56.0   \n",
       "20                69.0               62.0             61.0              60.0   \n",
       "\n",
       "    min_dew_point_f  ...  max_gust_speed_mph  precipitation_inches  \\\n",
       "0              56.0  ...                28.0                   0.0   \n",
       "5              56.0  ...                35.0                   0.0   \n",
       "14             54.0  ...                31.0                   0.0   \n",
       "16             53.0  ...                29.0                   0.0   \n",
       "20             58.0  ...                30.0                   0.0   \n",
       "\n",
       "    cloud_cover  wind_dir_degrees  Fog  Fog-Rain  Normal  Rain  \\\n",
       "0           4.0             286.0    0         0       1     0   \n",
       "5           2.0             291.0    0         0       1     0   \n",
       "14          4.0             284.0    0         0       1     0   \n",
       "16          4.0             284.0    0         0       1     0   \n",
       "20          6.0             277.0    0         0       1     0   \n",
       "\n",
       "    Rain-Thunderstorm  weekend  \n",
       "0                   0        0  \n",
       "5                   0        0  \n",
       "14                  0        1  \n",
       "16                  0        1  \n",
       "20                  0        0  \n",
       "\n",
       "[5 rows x 31 columns]"
      ]
     },
     "execution_count": 10,
     "metadata": {},
     "output_type": "execute_result"
    }
   ],
   "source": [
    "df_sf.head()"
   ]
  },
  {
   "cell_type": "code",
   "execution_count": 11,
   "id": "ee90e799",
   "metadata": {},
   "outputs": [
    {
     "name": "stdout",
     "output_type": "stream",
     "text": [
      "<class 'pandas.core.frame.DataFrame'>\n",
      "Int64Index: 733 entries, 0 to 3457\n",
      "Data columns (total 31 columns):\n",
      " #   Column                          Non-Null Count  Dtype  \n",
      "---  ------                          --------------  -----  \n",
      " 0   date                            733 non-null    object \n",
      " 1   city                            733 non-null    object \n",
      " 2   trips                           733 non-null    int64  \n",
      " 3   total_docks                     733 non-null    int64  \n",
      " 4   max_temperature_f               733 non-null    float64\n",
      " 5   mean_temperature_f              733 non-null    float64\n",
      " 6   min_temperature_f               733 non-null    float64\n",
      " 7   max_dew_point_f                 733 non-null    float64\n",
      " 8   mean_dew_point_f                733 non-null    float64\n",
      " 9   min_dew_point_f                 733 non-null    float64\n",
      " 10  max_humidity                    733 non-null    float64\n",
      " 11  mean_humidity                   733 non-null    float64\n",
      " 12  min_humidity                    733 non-null    float64\n",
      " 13  max_sea_level_pressure_inches   733 non-null    float64\n",
      " 14  mean_sea_level_pressure_inches  733 non-null    float64\n",
      " 15  min_sea_level_pressure_inches   733 non-null    float64\n",
      " 16  max_visibility_miles            733 non-null    float64\n",
      " 17  mean_visibility_miles           733 non-null    float64\n",
      " 18  min_visibility_miles            733 non-null    float64\n",
      " 19  max_wind_Speed_mph              733 non-null    float64\n",
      " 20  mean_wind_speed_mph             733 non-null    float64\n",
      " 21  max_gust_speed_mph              733 non-null    float64\n",
      " 22  precipitation_inches            733 non-null    float64\n",
      " 23  cloud_cover                     733 non-null    float64\n",
      " 24  wind_dir_degrees                733 non-null    float64\n",
      " 25  Fog                             733 non-null    int64  \n",
      " 26  Fog-Rain                        733 non-null    int64  \n",
      " 27  Normal                          733 non-null    int64  \n",
      " 28  Rain                            733 non-null    int64  \n",
      " 29  Rain-Thunderstorm               733 non-null    int64  \n",
      " 30  weekend                         733 non-null    int64  \n",
      "dtypes: float64(21), int64(8), object(2)\n",
      "memory usage: 183.2+ KB\n"
     ]
    }
   ],
   "source": [
    "df_sf.info()"
   ]
  },
  {
   "cell_type": "code",
   "execution_count": 12,
   "id": "9539fb5c",
   "metadata": {},
   "outputs": [],
   "source": [
    "lir = LinearRegression()"
   ]
  },
  {
   "cell_type": "code",
   "execution_count": 13,
   "id": "14b4d824",
   "metadata": {},
   "outputs": [],
   "source": [
    "lor = LogisticRegression(solver = 'liblinear')"
   ]
  },
  {
   "cell_type": "code",
   "execution_count": 14,
   "id": "c528846f",
   "metadata": {},
   "outputs": [],
   "source": [
    "rfr = RandomForestRegressor(n_estimators = 55,\n",
    "                            min_samples_leaf = 3,\n",
    "                            random_state = 22)"
   ]
  },
  {
   "cell_type": "code",
   "execution_count": 15,
   "id": "96063e56",
   "metadata": {},
   "outputs": [],
   "source": [
    "gbr = GradientBoostingRegressor(learning_rate = 0.12,\n",
    "                                n_estimators = 150,\n",
    "                                max_depth = 8,\n",
    "                                min_samples_leaf = 1,\n",
    "                                random_state = 22)"
   ]
  },
  {
   "cell_type": "code",
   "execution_count": 16,
   "id": "ac98c0eb",
   "metadata": {},
   "outputs": [],
   "source": [
    "abr = AdaBoostRegressor(n_estimators = 100,\n",
    "                        learning_rate = 0.1,\n",
    "                        loss = 'linear',\n",
    "                        random_state = 22)"
   ]
  },
  {
   "cell_type": "code",
   "execution_count": 17,
   "id": "c75a2314",
   "metadata": {},
   "outputs": [],
   "source": [
    "xgb_clf = xgb.XGBClassifier(\n",
    "                            n_estimators = 100, \n",
    "                            learning_rate = 0.1,\n",
    "                            booster = 'gblinear',\n",
    "                            eval_metric = 'mlogloss')"
   ]
  },
  {
   "cell_type": "code",
   "execution_count": null,
   "id": "5b05bdfb",
   "metadata": {},
   "outputs": [],
   "source": []
  },
  {
   "cell_type": "code",
   "execution_count": 18,
   "id": "5ebe3d31",
   "metadata": {},
   "outputs": [
    {
     "data": {
      "text/plain": [
       "0.7514080726806307"
      ]
     },
     "execution_count": 18,
     "metadata": {},
     "output_type": "execute_result"
    }
   ],
   "source": [
    "lir.fit(X_train, y_train)\n",
    "lir.score(X_test, y_test)"
   ]
  },
  {
   "cell_type": "code",
   "execution_count": 19,
   "id": "c17505b2",
   "metadata": {},
   "outputs": [
    {
     "data": {
      "text/plain": [
       "0.0"
      ]
     },
     "execution_count": 19,
     "metadata": {},
     "output_type": "execute_result"
    }
   ],
   "source": [
    "lor.fit(X_train, y_train)\n",
    "lor.score(X_test, y_test)"
   ]
  },
  {
   "cell_type": "code",
   "execution_count": 20,
   "id": "0ff5a73c",
   "metadata": {},
   "outputs": [
    {
     "data": {
      "text/plain": [
       "0.8608462785719687"
      ]
     },
     "execution_count": 20,
     "metadata": {},
     "output_type": "execute_result"
    }
   ],
   "source": [
    "rfr.fit(X_train, y_train)\n",
    "rfr.score(X_test, y_test)"
   ]
  },
  {
   "cell_type": "code",
   "execution_count": 21,
   "id": "1665eb2f",
   "metadata": {},
   "outputs": [
    {
     "data": {
      "text/plain": [
       "0.8362533698033547"
      ]
     },
     "execution_count": 21,
     "metadata": {},
     "output_type": "execute_result"
    }
   ],
   "source": [
    "gbr.fit(X_train, y_train)\n",
    "gbr.score(X_test, y_test)"
   ]
  },
  {
   "cell_type": "code",
   "execution_count": 22,
   "id": "2025f8b9",
   "metadata": {},
   "outputs": [
    {
     "data": {
      "text/plain": [
       "0.7796588044171319"
      ]
     },
     "execution_count": 22,
     "metadata": {},
     "output_type": "execute_result"
    }
   ],
   "source": [
    "abr.fit(X_train, y_train)\n",
    "abr.score(X_test, y_test)"
   ]
  },
  {
   "cell_type": "code",
   "execution_count": 23,
   "id": "c6da59d1",
   "metadata": {},
   "outputs": [
    {
     "data": {
      "text/plain": [
       "0.013605442176870748"
      ]
     },
     "execution_count": 23,
     "metadata": {},
     "output_type": "execute_result"
    }
   ],
   "source": [
    "xgb_clf.fit(X_train, y_train)\n",
    "xgb_clf.score(X_test, y_test)"
   ]
  },
  {
   "cell_type": "code",
   "execution_count": 24,
   "id": "dc387bf4",
   "metadata": {},
   "outputs": [],
   "source": [
    "def scoring(clf):\n",
    "    #5 fold cross validation. multiply by -1 to make values positive\n",
    "    #using Median absolute error regression loss to \n",
    "    scores = cross_val_score(clf, X_train, y_train, cv=5, n_jobs=1, scoring = 'neg_median_absolute_error')\n",
    "    return (np.median(scores) * -1)"
   ]
  },
  {
   "cell_type": "code",
   "execution_count": 25,
   "id": "4970fd02",
   "metadata": {},
   "outputs": [
    {
     "name": "stdout",
     "output_type": "stream",
     "text": [
      "The score by cross-validation of Linear Regression is 97.02548102897163\n",
      "The score by cross-validation of Logistic Regression is 150.0\n",
      "The score by cross-validation of Random Forest Regressor is 69.10733503869866\n",
      "The score by cross-validation of Gradient Boosting Regressor is 69.41101149069138\n",
      "The score by cross-validation of Ada Boost Regressor is 98.52941176470588\n",
      "The score by cross-validation of XGB Classifier is 92.0\n"
     ]
    }
   ],
   "source": [
    "model_list = [lir ,lor, rfr, gbr, abr, xgb_clf]\n",
    "model_full_name_list = ['Linear Regression',\n",
    "                        'Logistic Regression',\n",
    "                        'Random Forest Regressor', \n",
    "                        'Gradient Boosting Regressor',\n",
    "                        'Ada Boost Regressor', \n",
    "                        'XGB Classifier']\n",
    "for i in range(6):\n",
    "    score = scoring(model_list[i])\n",
    "    print(\"The score by cross-validation of\", model_full_name_list[i], 'is', score)"
   ]
  },
  {
   "cell_type": "code",
   "execution_count": 26,
   "id": "87af51ea",
   "metadata": {},
   "outputs": [],
   "source": [
    "gbr = gbr.fit(X_train, y_train)\n",
    "rfr = rfr.fit(X_train, y_train)\n",
    "gbr_preds = gbr.predict(X_test)\n",
    "rfr_preds = rfr.predict(X_test)"
   ]
  },
  {
   "cell_type": "code",
   "execution_count": 27,
   "id": "e8ae6a2b",
   "metadata": {},
   "outputs": [
    {
     "name": "stdout",
     "output_type": "stream",
     "text": [
      "Daily error of trip count using Gradient Boosting Regressor is 65.84246092301078\n",
      "Daily error of trip count using Random Forest Regressor is: 59.30405483405485\n"
     ]
    }
   ],
   "source": [
    "print (\"Daily error of trip count using Gradient Boosting Regressor is\", median_absolute_error(y_test, gbr_preds))\n",
    "print (\"Daily error of trip count using Random Forest Regressor is:\", median_absolute_error(y_test, rfr_preds))"
   ]
  },
  {
   "cell_type": "code",
   "execution_count": 46,
   "id": "5cedb8c3",
   "metadata": {},
   "outputs": [
    {
     "data": {
      "text/plain": [
       "<AxesSubplot:title={'center':'Feature importances of Random Forest Regressor'}>"
      ]
     },
     "execution_count": 46,
     "metadata": {},
     "output_type": "execute_result"
    },
    {
     "data": {
      "image/png": "[encoded data removed]",
      "text/plain": [
       "<Figure size 432x288 with 1 Axes>"
      ]
     },
     "metadata": {
      "needs_background": "light"
     },
     "output_type": "display_data"
    }
   ],
   "source": [
    "%matplotlib inline \n",
    "(pd.Series(rfr.feature_importances_, index=X_train.columns)\n",
    " .nlargest(8)\n",
    " .plot(title = \"Feature importances of Random Forest Regressor\",kind='barh'))"
   ]
  },
  {
   "cell_type": "code",
   "execution_count": 32,
   "id": "9a6efcbe",
   "metadata": {},
   "outputs": [
    {
     "data": {
      "text/plain": [
       "80.75"
      ]
     },
     "execution_count": 32,
     "metadata": {},
     "output_type": "execute_result"
    }
   ],
   "source": [
    "dtr = DecisionTreeRegressor(min_samples_leaf = 4,\n",
    "                            max_depth = 32,\n",
    "                            random_state = 2)\n",
    "dtr.fit(X_train, y_train)\n",
    "scoring(dtr)"
   ]
  },
  {
   "cell_type": "code",
   "execution_count": 33,
   "id": "eae74a0a",
   "metadata": {},
   "outputs": [],
   "source": [
    "dtr_preds = dtr.predict(X_test)"
   ]
  },
  {
   "cell_type": "code",
   "execution_count": 35,
   "id": "36d6b6d8",
   "metadata": {},
   "outputs": [
    {
     "data": {
      "text/plain": [
       "182.7035873850965"
      ]
     },
     "execution_count": 35,
     "metadata": {},
     "output_type": "execute_result"
    }
   ],
   "source": [
    "from sklearn.neural_network import MLPRegressor\n",
    "regr = MLPRegressor(random_state=1, max_iter=2000).fit(X_train, y_train)\n",
    "scoring(regr)"
   ]
  },
  {
   "cell_type": "code",
   "execution_count": null,
   "id": "900f755a",
   "metadata": {},
   "outputs": [],
   "source": [
    "regr_preds = regr.predict(X_test)"
   ]
  },
  {
   "cell_type": "code",
   "execution_count": null,
   "id": "8dc727d1",
   "metadata": {},
   "outputs": [],
   "source": [
    "print(f'median_absolute_error of decision tree regressor: {median_absolute_error(y_test, dtr_preds)}')\n",
    "print(f'median_absolute_error of mlp regressor: {median_absolute_error(y_test, regr_preds)}')"
   ]
  },
  {
   "cell_type": "code",
   "execution_count": null,
   "id": "feb59773",
   "metadata": {},
   "outputs": [],
   "source": []
  },
  {
   "cell_type": "markdown",
   "id": "feee6fb2",
   "metadata": {},
   "source": [
    "<font size=5> Dealing with data of city of SJ </font>"
   ]
  },
  {
   "cell_type": "code",
   "execution_count": 32,
   "id": "236c4e53",
   "metadata": {},
   "outputs": [
    {
     "name": "stdout",
     "output_type": "stream",
     "text": [
      "<class 'pandas.core.frame.DataFrame'>\n",
      "Int64Index: 733 entries, 1 to 3458\n",
      "Data columns (total 31 columns):\n",
      " #   Column                          Non-Null Count  Dtype  \n",
      "---  ------                          --------------  -----  \n",
      " 0   date                            733 non-null    object \n",
      " 1   city                            733 non-null    object \n",
      " 2   trips                           733 non-null    int64  \n",
      " 3   total_docks                     733 non-null    int64  \n",
      " 4   max_temperature_f               733 non-null    float64\n",
      " 5   mean_temperature_f              733 non-null    float64\n",
      " 6   min_temperature_f               733 non-null    float64\n",
      " 7   max_dew_point_f                 733 non-null    float64\n",
      " 8   mean_dew_point_f                733 non-null    float64\n",
      " 9   min_dew_point_f                 733 non-null    float64\n",
      " 10  max_humidity                    733 non-null    float64\n",
      " 11  mean_humidity                   733 non-null    float64\n",
      " 12  min_humidity                    733 non-null    float64\n",
      " 13  max_sea_level_pressure_inches   733 non-null    float64\n",
      " 14  mean_sea_level_pressure_inches  733 non-null    float64\n",
      " 15  min_sea_level_pressure_inches   733 non-null    float64\n",
      " 16  max_visibility_miles            733 non-null    float64\n",
      " 17  mean_visibility_miles           733 non-null    float64\n",
      " 18  min_visibility_miles            733 non-null    float64\n",
      " 19  max_wind_Speed_mph              733 non-null    float64\n",
      " 20  mean_wind_speed_mph             733 non-null    float64\n",
      " 21  max_gust_speed_mph              733 non-null    float64\n",
      " 22  precipitation_inches            733 non-null    float64\n",
      " 23  cloud_cover                     733 non-null    float64\n",
      " 24  wind_dir_degrees                733 non-null    float64\n",
      " 25  Fog                             733 non-null    int64  \n",
      " 26  Fog-Rain                        733 non-null    int64  \n",
      " 27  Normal                          733 non-null    int64  \n",
      " 28  Rain                            733 non-null    int64  \n",
      " 29  Rain-Thunderstorm               733 non-null    int64  \n",
      " 30  weekend                         733 non-null    int64  \n",
      "dtypes: float64(21), int64(8), object(2)\n",
      "memory usage: 183.2+ KB\n"
     ]
    }
   ],
   "source": [
    "df_sj.info()"
   ]
  },
  {
   "cell_type": "code",
   "execution_count": 33,
   "id": "10e4322e",
   "metadata": {},
   "outputs": [],
   "source": [
    "X_train, X_test, y_train, y_test = train_test_split(train_sj, labels_sj, test_size = 0.2, random_state = 22)"
   ]
  },
  {
   "cell_type": "code",
   "execution_count": 34,
   "id": "1147ac65",
   "metadata": {},
   "outputs": [],
   "source": [
    "lir = LinearRegression()\n",
    "lor = LogisticRegression(solver = 'liblinear')\n",
    "rfr = RandomForestRegressor(n_estimators = 55,\n",
    "                            min_samples_leaf = 3,\n",
    "                            random_state = 22)\n",
    "\n",
    "gbr = GradientBoostingRegressor(learning_rate = 0.12,\n",
    "                                n_estimators = 150,\n",
    "                                max_depth = 8,\n",
    "                                min_samples_leaf = 1,\n",
    "                                random_state = 22)\n",
    "abr = AdaBoostRegressor(n_estimators = 100,\n",
    "                        learning_rate = 0.1,\n",
    "                        loss = 'linear',\n",
    "                        random_state = 22)\n",
    "xgb_clf = xgb.XGBClassifier(\n",
    "                            n_estimators = 100, \n",
    "                            learning_rate = 0.1,\n",
    "                            booster = 'gblinear',\n",
    "                            eval_metric = 'mlogloss')"
   ]
  },
  {
   "cell_type": "code",
   "execution_count": 35,
   "id": "69f99e52",
   "metadata": {},
   "outputs": [
    {
     "name": "stdout",
     "output_type": "stream",
     "text": [
      "The score by cross-validation of Linear Regression is 7.062556109740569\n",
      "The score by cross-validation of Logistic Regression is 11.0\n",
      "The score by cross-validation of Random Forest Regressor is 7.133038829857018\n",
      "The score by cross-validation of Gradient Boosting Regressor is 8.225814818515047\n",
      "The score by cross-validation of Ada Boost Regressor is 8.075471698113205\n",
      "The score by cross-validation of XGB Classifier is 8.0\n"
     ]
    }
   ],
   "source": [
    "for i in range(6):\n",
    "    score = scoring(model_list[i])\n",
    "    print(\"The score by cross-validation of\", model_full_name_list[i], 'is', score)"
   ]
  },
  {
   "cell_type": "code",
   "execution_count": 36,
   "id": "d191611f",
   "metadata": {},
   "outputs": [],
   "source": [
    "lir = lir.fit(X_train, y_train)\n",
    "rfr = rfr.fit(X_train, y_train)\n",
    "lir_preds = lir.predict(X_test)\n",
    "rfr_preds = rfr.predict(X_test)"
   ]
  },
  {
   "cell_type": "code",
   "execution_count": 37,
   "id": "eeb95b4c",
   "metadata": {},
   "outputs": [
    {
     "name": "stdout",
     "output_type": "stream",
     "text": [
      "Daily error of trip count using Linear Regression is 789.8528782657676\n",
      "Daily error of trip count using Random Forest Regressor is: 7.070680632498814\n"
     ]
    }
   ],
   "source": [
    "print (\"Daily error of trip count using Linear Regression is\", median_absolute_error(y_test, gbr_preds))\n",
    "print (\"Daily error of trip count using Random Forest Regressor is:\", median_absolute_error(y_test, rfr_preds))"
   ]
  },
  {
   "cell_type": "code",
   "execution_count": null,
   "id": "fca15076",
   "metadata": {},
   "outputs": [],
   "source": []
  },
  {
   "cell_type": "markdown",
   "id": "9a53caf5",
   "metadata": {},
   "source": [
    "<font size=5> Dealing with data of city of MV </font>"
   ]
  },
  {
   "cell_type": "code",
   "execution_count": 38,
   "id": "0f40eb99",
   "metadata": {},
   "outputs": [
    {
     "name": "stdout",
     "output_type": "stream",
     "text": [
      "<class 'pandas.core.frame.DataFrame'>\n",
      "Int64Index: 722 entries, 2 to 3459\n",
      "Data columns (total 31 columns):\n",
      " #   Column                          Non-Null Count  Dtype  \n",
      "---  ------                          --------------  -----  \n",
      " 0   date                            722 non-null    object \n",
      " 1   city                            722 non-null    object \n",
      " 2   trips                           722 non-null    int64  \n",
      " 3   total_docks                     722 non-null    int64  \n",
      " 4   max_temperature_f               722 non-null    float64\n",
      " 5   mean_temperature_f              722 non-null    float64\n",
      " 6   min_temperature_f               722 non-null    float64\n",
      " 7   max_dew_point_f                 722 non-null    float64\n",
      " 8   mean_dew_point_f                722 non-null    float64\n",
      " 9   min_dew_point_f                 722 non-null    float64\n",
      " 10  max_humidity                    722 non-null    float64\n",
      " 11  mean_humidity                   722 non-null    float64\n",
      " 12  min_humidity                    722 non-null    float64\n",
      " 13  max_sea_level_pressure_inches   722 non-null    float64\n",
      " 14  mean_sea_level_pressure_inches  722 non-null    float64\n",
      " 15  min_sea_level_pressure_inches   722 non-null    float64\n",
      " 16  max_visibility_miles            722 non-null    float64\n",
      " 17  mean_visibility_miles           722 non-null    float64\n",
      " 18  min_visibility_miles            722 non-null    float64\n",
      " 19  max_wind_Speed_mph              722 non-null    float64\n",
      " 20  mean_wind_speed_mph             722 non-null    float64\n",
      " 21  max_gust_speed_mph              722 non-null    float64\n",
      " 22  precipitation_inches            722 non-null    float64\n",
      " 23  cloud_cover                     722 non-null    float64\n",
      " 24  wind_dir_degrees                722 non-null    float64\n",
      " 25  Fog                             722 non-null    int64  \n",
      " 26  Fog-Rain                        722 non-null    int64  \n",
      " 27  Normal                          722 non-null    int64  \n",
      " 28  Rain                            722 non-null    int64  \n",
      " 29  Rain-Thunderstorm               722 non-null    int64  \n",
      " 30  weekend                         722 non-null    int64  \n",
      "dtypes: float64(21), int64(8), object(2)\n",
      "memory usage: 180.5+ KB\n"
     ]
    }
   ],
   "source": [
    "df_mv.info()"
   ]
  },
  {
   "cell_type": "code",
   "execution_count": 39,
   "id": "9694d373",
   "metadata": {},
   "outputs": [],
   "source": [
    "X_train, X_test, y_train, y_test = train_test_split(train_mv, labels_mv, test_size = 0.2, random_state = 22)"
   ]
  },
  {
   "cell_type": "code",
   "execution_count": 40,
   "id": "b1d4cdf8",
   "metadata": {},
   "outputs": [],
   "source": [
    "lir = LinearRegression()\n",
    "lor = LogisticRegression(solver = 'liblinear')\n",
    "rfr = RandomForestRegressor(n_estimators = 55,\n",
    "                            min_samples_leaf = 3,\n",
    "                            random_state = 22)\n",
    "\n",
    "gbr = GradientBoostingRegressor(learning_rate = 0.12,\n",
    "                                n_estimators = 150,\n",
    "                                max_depth = 8,\n",
    "                                min_samples_leaf = 1,\n",
    "                                random_state = 22)\n",
    "abr = AdaBoostRegressor(n_estimators = 100,\n",
    "                        learning_rate = 0.1,\n",
    "                        loss = 'linear',\n",
    "                        random_state = 22)\n",
    "xgb_clf = xgb.XGBClassifier(\n",
    "                            n_estimators = 100, \n",
    "                            learning_rate = 0.1,\n",
    "                            booster = 'gblinear',\n",
    "                            eval_metric = 'mlogloss')"
   ]
  },
  {
   "cell_type": "code",
   "execution_count": 41,
   "id": "0f760471",
   "metadata": {},
   "outputs": [
    {
     "name": "stdout",
     "output_type": "stream",
     "text": [
      "The score by cross-validation of Linear Regression is 5.688064089746113\n",
      "The score by cross-validation of Logistic Regression is 5.0\n",
      "The score by cross-validation of Random Forest Regressor is 4.393249376885743\n",
      "The score by cross-validation of Gradient Boosting Regressor is 4.877404783385156\n",
      "The score by cross-validation of Ada Boost Regressor is 4.580645161290324\n",
      "The score by cross-validation of XGB Classifier is 5.0\n"
     ]
    }
   ],
   "source": [
    "for i in range(6):\n",
    "    score = scoring(model_list[i])\n",
    "    print(\"The score by cross-validation of\", model_full_name_list[i], 'is', score)\n"
   ]
  },
  {
   "cell_type": "code",
   "execution_count": 42,
   "id": "6e448e47",
   "metadata": {},
   "outputs": [
    {
     "name": "stdout",
     "output_type": "stream",
     "text": [
      "Daily error of trip count using Ada Boost Regressor is 4.573170731707316\n",
      "Daily error of trip count using Random Forest Regressor is: 4.492965367965372\n"
     ]
    }
   ],
   "source": [
    "rfr = rfr.fit(X_train, y_train)\n",
    "abr = abr.fit(X_train, y_train)\n",
    "rfr_preds = rfr.predict(X_test)\n",
    "abr_preds = abr.predict(X_test)\n",
    "\n",
    "print (\"Daily error of trip count using Ada Boost Regressor is\", median_absolute_error(y_test, abr_preds))\n",
    "print (\"Daily error of trip count using Random Forest Regressor is:\", median_absolute_error(y_test, rfr_preds))"
   ]
  },
  {
   "cell_type": "code",
   "execution_count": null,
   "id": "06e62f8d",
   "metadata": {},
   "outputs": [],
   "source": []
  },
  {
   "cell_type": "markdown",
   "id": "4ed298b0",
   "metadata": {},
   "source": [
    "<font size=5> Dealing with data of city of RC </font>"
   ]
  },
  {
   "cell_type": "code",
   "execution_count": 43,
   "id": "8cc4a5df",
   "metadata": {},
   "outputs": [
    {
     "name": "stdout",
     "output_type": "stream",
     "text": [
      "<class 'pandas.core.frame.DataFrame'>\n",
      "Int64Index: 629 entries, 3 to 3456\n",
      "Data columns (total 31 columns):\n",
      " #   Column                          Non-Null Count  Dtype  \n",
      "---  ------                          --------------  -----  \n",
      " 0   date                            629 non-null    object \n",
      " 1   city                            629 non-null    object \n",
      " 2   trips                           629 non-null    int64  \n",
      " 3   total_docks                     629 non-null    int64  \n",
      " 4   max_temperature_f               629 non-null    float64\n",
      " 5   mean_temperature_f              629 non-null    float64\n",
      " 6   min_temperature_f               629 non-null    float64\n",
      " 7   max_dew_point_f                 629 non-null    float64\n",
      " 8   mean_dew_point_f                629 non-null    float64\n",
      " 9   min_dew_point_f                 629 non-null    float64\n",
      " 10  max_humidity                    629 non-null    float64\n",
      " 11  mean_humidity                   629 non-null    float64\n",
      " 12  min_humidity                    629 non-null    float64\n",
      " 13  max_sea_level_pressure_inches   629 non-null    float64\n",
      " 14  mean_sea_level_pressure_inches  629 non-null    float64\n",
      " 15  min_sea_level_pressure_inches   629 non-null    float64\n",
      " 16  max_visibility_miles            629 non-null    float64\n",
      " 17  mean_visibility_miles           629 non-null    float64\n",
      " 18  min_visibility_miles            629 non-null    float64\n",
      " 19  max_wind_Speed_mph              629 non-null    float64\n",
      " 20  mean_wind_speed_mph             629 non-null    float64\n",
      " 21  max_gust_speed_mph              629 non-null    float64\n",
      " 22  precipitation_inches            629 non-null    float64\n",
      " 23  cloud_cover                     629 non-null    float64\n",
      " 24  wind_dir_degrees                629 non-null    float64\n",
      " 25  Fog                             629 non-null    int64  \n",
      " 26  Fog-Rain                        629 non-null    int64  \n",
      " 27  Normal                          629 non-null    int64  \n",
      " 28  Rain                            629 non-null    int64  \n",
      " 29  Rain-Thunderstorm               629 non-null    int64  \n",
      " 30  weekend                         629 non-null    int64  \n",
      "dtypes: float64(21), int64(8), object(2)\n",
      "memory usage: 157.2+ KB\n"
     ]
    }
   ],
   "source": [
    "df_rc.info()"
   ]
  },
  {
   "cell_type": "code",
   "execution_count": 44,
   "id": "a450bd0b",
   "metadata": {},
   "outputs": [],
   "source": [
    "X_train, X_test, y_train, y_test = train_test_split(train_rc, labels_rc, test_size = 0.2, random_state = 22)"
   ]
  },
  {
   "cell_type": "code",
   "execution_count": 45,
   "id": "5b564a77",
   "metadata": {},
   "outputs": [],
   "source": [
    "lir = LinearRegression()\n",
    "lor = LogisticRegression(solver = 'liblinear')\n",
    "rfr = RandomForestRegressor(n_estimators = 55,\n",
    "                            min_samples_leaf = 3,\n",
    "                            random_state = 22)\n",
    "\n",
    "gbr = GradientBoostingRegressor(learning_rate = 0.12,\n",
    "                                n_estimators = 150,\n",
    "                                max_depth = 8,\n",
    "                                min_samples_leaf = 1,\n",
    "                                random_state = 22)\n",
    "abr = AdaBoostRegressor(n_estimators = 100,\n",
    "                        learning_rate = 0.1,\n",
    "                        loss = 'linear',\n",
    "                        random_state = 22)\n",
    "xgb_clf = xgb.XGBClassifier(\n",
    "                            n_estimators = 100, \n",
    "                            learning_rate = 0.1,\n",
    "                            booster = 'gblinear',\n",
    "                            eval_metric = 'mlogloss')"
   ]
  },
  {
   "cell_type": "code",
   "execution_count": 46,
   "id": "83cd96a6",
   "metadata": {},
   "outputs": [
    {
     "name": "stdout",
     "output_type": "stream",
     "text": [
      "The score by cross-validation of Linear Regression is 2.226907031734566\n",
      "The score by cross-validation of Logistic Regression is 2.0\n",
      "The score by cross-validation of Random Forest Regressor is 2.13580512921422\n",
      "The score by cross-validation of Gradient Boosting Regressor is 2.1285351184229757\n",
      "The score by cross-validation of Ada Boost Regressor is 2.1906779661016946\n",
      "The score by cross-validation of XGB Classifier is 2.0\n"
     ]
    }
   ],
   "source": [
    "for i in range(6):\n",
    "    score = scoring(model_list[i])\n",
    "    print(\"The score by cross-validation of\", model_full_name_list[i], 'is', score)\n"
   ]
  },
  {
   "cell_type": "code",
   "execution_count": 47,
   "id": "6e4ecd91",
   "metadata": {},
   "outputs": [
    {
     "name": "stdout",
     "output_type": "stream",
     "text": [
      "Daily error of trip count using Logistic Regression is 2.0\n",
      "Daily error of trip count using XGB Classifier is: 2.0\n"
     ]
    }
   ],
   "source": [
    "lor = lor.fit(X_train, y_train)\n",
    "xgb_clf = xgb_clf.fit(X_train, y_train)\n",
    "lor_preds = lor.predict(X_test)\n",
    "xgb_clf_preds = xgb_clf.predict(X_test)\n",
    "\n",
    "print (\"Daily error of trip count using Logistic Regression is\", median_absolute_error(y_test, lor_preds))\n",
    "print (\"Daily error of trip count using XGB Classifier is:\", median_absolute_error(y_test, xgb_clf_preds))"
   ]
  },
  {
   "cell_type": "code",
   "execution_count": null,
   "id": "e2540599",
   "metadata": {},
   "outputs": [],
   "source": []
  },
  {
   "cell_type": "code",
   "execution_count": null,
   "id": "e108b95e",
   "metadata": {},
   "outputs": [],
   "source": []
  },
  {
   "cell_type": "markdown",
   "id": "c2fb7db7",
   "metadata": {},
   "source": [
    "<font size=5> Dealing with data of city of PA </font>"
   ]
  },
  {
   "cell_type": "code",
   "execution_count": 48,
   "id": "7163d04a",
   "metadata": {},
   "outputs": [
    {
     "name": "stdout",
     "output_type": "stream",
     "text": [
      "<class 'pandas.core.frame.DataFrame'>\n",
      "Int64Index: 644 entries, 4 to 3460\n",
      "Data columns (total 31 columns):\n",
      " #   Column                          Non-Null Count  Dtype  \n",
      "---  ------                          --------------  -----  \n",
      " 0   date                            644 non-null    object \n",
      " 1   city                            644 non-null    object \n",
      " 2   trips                           644 non-null    int64  \n",
      " 3   total_docks                     644 non-null    int64  \n",
      " 4   max_temperature_f               644 non-null    float64\n",
      " 5   mean_temperature_f              644 non-null    float64\n",
      " 6   min_temperature_f               644 non-null    float64\n",
      " 7   max_dew_point_f                 644 non-null    float64\n",
      " 8   mean_dew_point_f                644 non-null    float64\n",
      " 9   min_dew_point_f                 644 non-null    float64\n",
      " 10  max_humidity                    644 non-null    float64\n",
      " 11  mean_humidity                   644 non-null    float64\n",
      " 12  min_humidity                    644 non-null    float64\n",
      " 13  max_sea_level_pressure_inches   644 non-null    float64\n",
      " 14  mean_sea_level_pressure_inches  644 non-null    float64\n",
      " 15  min_sea_level_pressure_inches   644 non-null    float64\n",
      " 16  max_visibility_miles            644 non-null    float64\n",
      " 17  mean_visibility_miles           644 non-null    float64\n",
      " 18  min_visibility_miles            644 non-null    float64\n",
      " 19  max_wind_Speed_mph              644 non-null    float64\n",
      " 20  mean_wind_speed_mph             644 non-null    float64\n",
      " 21  max_gust_speed_mph              644 non-null    float64\n",
      " 22  precipitation_inches            644 non-null    float64\n",
      " 23  cloud_cover                     644 non-null    float64\n",
      " 24  wind_dir_degrees                644 non-null    float64\n",
      " 25  Fog                             644 non-null    int64  \n",
      " 26  Fog-Rain                        644 non-null    int64  \n",
      " 27  Normal                          644 non-null    int64  \n",
      " 28  Rain                            644 non-null    int64  \n",
      " 29  Rain-Thunderstorm               644 non-null    int64  \n",
      " 30  weekend                         644 non-null    int64  \n",
      "dtypes: float64(21), int64(8), object(2)\n",
      "memory usage: 161.0+ KB\n"
     ]
    }
   ],
   "source": [
    "df_pa.info()"
   ]
  },
  {
   "cell_type": "code",
   "execution_count": 49,
   "id": "04c5288d",
   "metadata": {},
   "outputs": [],
   "source": [
    "X_train, X_test, y_train, y_test = train_test_split(train_pa, labels_pa, test_size = 0.2, random_state = 22)"
   ]
  },
  {
   "cell_type": "code",
   "execution_count": 50,
   "id": "54f301ef",
   "metadata": {},
   "outputs": [],
   "source": [
    "lir = LinearRegression()\n",
    "lor = LogisticRegression(solver = 'liblinear')\n",
    "rfr = RandomForestRegressor(n_estimators = 55,\n",
    "                            min_samples_leaf = 3,\n",
    "                            random_state = 22)\n",
    "\n",
    "gbr = GradientBoostingRegressor(learning_rate = 0.12,\n",
    "                                n_estimators = 150,\n",
    "                                max_depth = 8,\n",
    "                                min_samples_leaf = 1,\n",
    "                                random_state = 22)\n",
    "abr = AdaBoostRegressor(n_estimators = 100,\n",
    "                        learning_rate = 0.1,\n",
    "                        loss = 'linear',\n",
    "                        random_state = 22)\n",
    "xgb_clf = xgb.XGBClassifier(\n",
    "                            n_estimators = 100, \n",
    "                            learning_rate = 0.1,\n",
    "                            booster = 'gblinear',\n",
    "                            eval_metric = 'mlogloss')"
   ]
  },
  {
   "cell_type": "code",
   "execution_count": 51,
   "id": "6547c3b2",
   "metadata": {},
   "outputs": [
    {
     "name": "stdout",
     "output_type": "stream",
     "text": [
      "The score by cross-validation of Linear Regression is 2.3808569678947524\n",
      "The score by cross-validation of Logistic Regression is 3.0\n",
      "The score by cross-validation of Random Forest Regressor is 2.2661223624859987\n",
      "The score by cross-validation of Gradient Boosting Regressor is 2.6201575113695856\n",
      "The score by cross-validation of Ada Boost Regressor is 2.291079812206573\n",
      "The score by cross-validation of XGB Classifier is 2.0\n"
     ]
    }
   ],
   "source": [
    "for i in range(6):\n",
    "    score = scoring(model_list[i])\n",
    "    print(\"The score by cross-validation of\", model_full_name_list[i], 'is', score)"
   ]
  },
  {
   "cell_type": "code",
   "execution_count": 52,
   "id": "dc6c697b",
   "metadata": {},
   "outputs": [
    {
     "name": "stdout",
     "output_type": "stream",
     "text": [
      "Daily error of trip count using Random Forest Regressor is 2.52969696969697\n",
      "Daily error of trip count using XGB Classifier is: 3.0\n"
     ]
    }
   ],
   "source": [
    "rfr = rfr.fit(X_train, y_train)\n",
    "xgb_clf = xgb_clf.fit(X_train, y_train)\n",
    "rfr_preds = rfr.predict(X_test)\n",
    "xgb_clf_preds = xgb_clf.predict(X_test)\n",
    "\n",
    "print (\"Daily error of trip count using Random Forest Regressor is\", median_absolute_error(y_test, rfr_preds))\n",
    "print (\"Daily error of trip count using XGB Classifier is:\", median_absolute_error(y_test, xgb_clf_preds))"
   ]
  },
  {
   "cell_type": "code",
   "execution_count": null,
   "id": "1a476bce",
   "metadata": {},
   "outputs": [],
   "source": []
  },
  {
   "cell_type": "code",
   "execution_count": null,
   "id": "8ed4d804",
   "metadata": {},
   "outputs": [],
   "source": []
  }
 ],
 "metadata": {
  "kernelspec": {
   "display_name": "Python 3 (ipykernel)",
   "language": "python",
   "name": "python3"
  },
  "language_info": {
   "codemirror_mode": {
    "name": "ipython",
    "version": 3
   },
   "file_extension": ".py",
   "mimetype": "text/x-python",
   "name": "python",
   "nbconvert_exporter": "python",
   "pygments_lexer": "ipython3",
   "version": "3.9.7"
  }
 },
 "nbformat": 4,
 "nbformat_minor": 5
}
